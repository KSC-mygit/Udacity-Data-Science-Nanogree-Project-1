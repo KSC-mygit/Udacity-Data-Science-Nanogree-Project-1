{
 "cells": [
  {
   "cell_type": "markdown",
   "metadata": {},
   "source": [
    "# United States Mutual Funds Analysis\n",
    "\n",
    "### Objective:\n",
    "This Jupyter notebook has been prepared to explore the following 3 questions related to mutual funds in the United States\n",
    "1. Is the fund expense ratio an important factor for selecting funds that will generate the best performance\n",
    "2. What are the most popular top holdings of the best performing mutual funds\n",
    "3. Can the (i) Morningstar return rating, (ii) 5 year average fund performance, (iii) investment style and (iv) size type, be used to predict current performance"
   ]
  },
  {
   "cell_type": "markdown",
   "metadata": {},
   "source": [
    "### Table of Content<a name=\"itemA\"></a>\n",
    "\n",
    "\n",
    "1. <a href=\"#item1\">Import required libraries and dataset</a>\n",
    "2. <a href=\"#item2\">Explore categorical variables</a>\n",
    "3. <a href=\"#item3\">Dropping columns with the most missing values</a>\n",
    "4. <a href=\"#item4\">Question No. 1: Fund return and fund expense ratios</a>\n",
    "5. <a href=\"#item5\">Question No. 2: Top holdings in best performing funds</a>\n",
    "6. <a href=\"#item6\">Question No. 3: Predicting fund performance</a>\n",
    "    * 6a. <a href=\"#item6a\">Convert investment type and size type from categorical to numeric variable</a>\n",
    "    * 6b. <a href=\"#item6b\">Imputation for fund_mean_annual_return_5years</a>\n",
    "    * 6c. <a href=\"#item6d\">Imputation for the morningstar_return_rating variable</a>\n",
    "    * 6d. <a href=\"#item6d\">Build and test the model</a>\n",
    "    * 6e. <a href=\"#item6e\">Conclusion</a>\n",
    "    \n"
   ]
  },
  {
   "cell_type": "markdown",
   "metadata": {},
   "source": [
    "## 1. Import required libraries and dataset<a name=\"item1\"></a>\n",
    "<a href=\"#itemA\">*`Table of content`*</a>"
   ]
  },
  {
   "cell_type": "code",
   "execution_count": 1,
   "metadata": {},
   "outputs": [
    {
     "name": "stdout",
     "output_type": "stream",
     "text": [
      "There are 23783 rows and 298 columns in the dataset\n"
     ]
    },
    {
     "data": {
      "text/html": [
       "<div>\n",
       "<style scoped>\n",
       "    .dataframe tbody tr th:only-of-type {\n",
       "        vertical-align: middle;\n",
       "    }\n",
       "\n",
       "    .dataframe tbody tr th {\n",
       "        vertical-align: top;\n",
       "    }\n",
       "\n",
       "    .dataframe thead th {\n",
       "        text-align: right;\n",
       "    }\n",
       "</style>\n",
       "<table border=\"1\" class=\"dataframe\">\n",
       "  <thead>\n",
       "    <tr style=\"text-align: right;\">\n",
       "      <th></th>\n",
       "      <th>fund_symbol</th>\n",
       "      <th>quote_type</th>\n",
       "      <th>region</th>\n",
       "      <th>fund_short_name</th>\n",
       "      <th>fund_long_name</th>\n",
       "      <th>currency</th>\n",
       "      <th>initial_investment</th>\n",
       "      <th>subsequent_investment</th>\n",
       "      <th>fund_category</th>\n",
       "      <th>fund_family</th>\n",
       "      <th>...</th>\n",
       "      <th>peer_environment_avg</th>\n",
       "      <th>peer_environment_max</th>\n",
       "      <th>social_score</th>\n",
       "      <th>peer_social_min</th>\n",
       "      <th>peer_social_avg</th>\n",
       "      <th>peer_social_max</th>\n",
       "      <th>governance_score</th>\n",
       "      <th>peer_governance_min</th>\n",
       "      <th>peer_governance_avg</th>\n",
       "      <th>peer_governance_max</th>\n",
       "    </tr>\n",
       "  </thead>\n",
       "  <tbody>\n",
       "    <tr>\n",
       "      <th>0</th>\n",
       "      <td>AAAAX</td>\n",
       "      <td>MutualFund</td>\n",
       "      <td>US</td>\n",
       "      <td>DWS RREEF Real Assets Fund - Cl</td>\n",
       "      <td>DWS RREEF Real Assets Fund - Class A</td>\n",
       "      <td>USD</td>\n",
       "      <td>1000.0</td>\n",
       "      <td>50.0</td>\n",
       "      <td>World Allocation</td>\n",
       "      <td>DWS</td>\n",
       "      <td>...</td>\n",
       "      <td>5.05</td>\n",
       "      <td>10.58</td>\n",
       "      <td>7.43</td>\n",
       "      <td>5.98</td>\n",
       "      <td>9.07</td>\n",
       "      <td>11.30</td>\n",
       "      <td>5.43</td>\n",
       "      <td>4.26</td>\n",
       "      <td>7.14</td>\n",
       "      <td>8.11</td>\n",
       "    </tr>\n",
       "    <tr>\n",
       "      <th>1</th>\n",
       "      <td>AAAEX</td>\n",
       "      <td>MutualFund</td>\n",
       "      <td>US</td>\n",
       "      <td>AllianzGI Health Sciences Fund</td>\n",
       "      <td>Virtus AllianzGI Health Sciences Fund Class P</td>\n",
       "      <td>USD</td>\n",
       "      <td>1000000.0</td>\n",
       "      <td>NaN</td>\n",
       "      <td>Health</td>\n",
       "      <td>Virtus</td>\n",
       "      <td>...</td>\n",
       "      <td>1.43</td>\n",
       "      <td>3.27</td>\n",
       "      <td>12.96</td>\n",
       "      <td>9.52</td>\n",
       "      <td>12.87</td>\n",
       "      <td>15.08</td>\n",
       "      <td>8.40</td>\n",
       "      <td>4.96</td>\n",
       "      <td>7.68</td>\n",
       "      <td>10.30</td>\n",
       "    </tr>\n",
       "    <tr>\n",
       "      <th>2</th>\n",
       "      <td>AAAFX</td>\n",
       "      <td>MutualFund</td>\n",
       "      <td>US</td>\n",
       "      <td>NaN</td>\n",
       "      <td>American Century One Choice Blend+ 2015 Portfo...</td>\n",
       "      <td>USD</td>\n",
       "      <td>2500.0</td>\n",
       "      <td>50.0</td>\n",
       "      <td>Target-Date 2015</td>\n",
       "      <td>American Century Investments</td>\n",
       "      <td>...</td>\n",
       "      <td>NaN</td>\n",
       "      <td>NaN</td>\n",
       "      <td>NaN</td>\n",
       "      <td>NaN</td>\n",
       "      <td>NaN</td>\n",
       "      <td>NaN</td>\n",
       "      <td>NaN</td>\n",
       "      <td>NaN</td>\n",
       "      <td>NaN</td>\n",
       "      <td>NaN</td>\n",
       "    </tr>\n",
       "  </tbody>\n",
       "</table>\n",
       "<p>3 rows × 298 columns</p>\n",
       "</div>"
      ],
      "text/plain": [
       "  fund_symbol  quote_type region                  fund_short_name  \\\n",
       "0       AAAAX  MutualFund     US  DWS RREEF Real Assets Fund - Cl   \n",
       "1       AAAEX  MutualFund     US  AllianzGI Health Sciences Fund    \n",
       "2       AAAFX  MutualFund     US                              NaN   \n",
       "\n",
       "                                      fund_long_name currency  \\\n",
       "0               DWS RREEF Real Assets Fund - Class A      USD   \n",
       "1      Virtus AllianzGI Health Sciences Fund Class P      USD   \n",
       "2  American Century One Choice Blend+ 2015 Portfo...      USD   \n",
       "\n",
       "   initial_investment  subsequent_investment     fund_category  \\\n",
       "0              1000.0                   50.0  World Allocation   \n",
       "1           1000000.0                    NaN            Health   \n",
       "2              2500.0                   50.0  Target-Date 2015   \n",
       "\n",
       "                    fund_family  ... peer_environment_avg  \\\n",
       "0                           DWS  ...                 5.05   \n",
       "1                        Virtus  ...                 1.43   \n",
       "2  American Century Investments  ...                  NaN   \n",
       "\n",
       "  peer_environment_max social_score peer_social_min peer_social_avg  \\\n",
       "0                10.58         7.43            5.98            9.07   \n",
       "1                 3.27        12.96            9.52           12.87   \n",
       "2                  NaN          NaN             NaN             NaN   \n",
       "\n",
       "  peer_social_max  governance_score  peer_governance_min  peer_governance_avg  \\\n",
       "0           11.30              5.43                 4.26                 7.14   \n",
       "1           15.08              8.40                 4.96                 7.68   \n",
       "2             NaN               NaN                  NaN                  NaN   \n",
       "\n",
       "   peer_governance_max  \n",
       "0                 8.11  \n",
       "1                10.30  \n",
       "2                  NaN  \n",
       "\n",
       "[3 rows x 298 columns]"
      ]
     },
     "execution_count": 1,
     "metadata": {},
     "output_type": "execute_result"
    }
   ],
   "source": [
    "import pandas as pd\n",
    "import numpy as np\n",
    "import matplotlib.pyplot as plt\n",
    "import seaborn as sns\n",
    "import re\n",
    "from sklearn.linear_model import LinearRegression\n",
    "from sklearn.metrics import r2_score, mean_squared_error\n",
    "from sklearn.model_selection import train_test_split\n",
    "from sklearn.impute import KNNImputer\n",
    "from sklearn.preprocessing import MinMaxScaler\n",
    "from collections import defaultdict\n",
    "\n",
    "%matplotlib inline\n",
    "\n",
    "df = pd.read_csv('MutualFunds.csv')\n",
    "\n",
    "print(\"There are {} rows and {} columns in the dataset\".format(df.shape[0], df.shape[1]))\n",
    "      \n",
    "df.head(3)"
   ]
  },
  {
   "cell_type": "markdown",
   "metadata": {},
   "source": [
    "##  2. Explore categorical variables<a name=\"item2\"></a>\n",
    "<a href=\"#itemA\">*`Table of content`*</a>"
   ]
  },
  {
   "cell_type": "code",
   "execution_count": 2,
   "metadata": {},
   "outputs": [
    {
     "data": {
      "text/plain": [
       "Index(['fund_symbol', 'quote_type', 'region', 'fund_short_name',\n",
       "       'fund_long_name', 'currency', 'fund_category', 'fund_family',\n",
       "       'exchange_code', 'exchange_name', 'exchange_timezone',\n",
       "       'management_name', 'management_bio', 'management_start_date',\n",
       "       'investment_strategy', 'inception_date', 'investment_type', 'size_type',\n",
       "       'top10_holdings', 'returns_as_of_date', 'esg_peer_group'],\n",
       "      dtype='object')"
      ]
     },
     "execution_count": 2,
     "metadata": {},
     "output_type": "execute_result"
    }
   ],
   "source": [
    "# identify non-numeric/categorical columns\n",
    "\n",
    "cat_cols = df.select_dtypes(include='object')\n",
    "cat_cols.columns"
   ]
  },
  {
   "cell_type": "code",
   "execution_count": 3,
   "metadata": {},
   "outputs": [
    {
     "name": "stdout",
     "output_type": "stream",
     "text": [
      "fund_symbol 23783\n",
      "quote_type 1\n",
      "region 1\n",
      "fund_short_name 3044\n",
      "fund_long_name 6644\n",
      "currency 1\n",
      "fund_category 119\n",
      "fund_family 310\n",
      "exchange_code 1\n",
      "exchange_name 1\n",
      "exchange_timezone 1\n",
      "management_name 1388\n",
      "management_bio 1300\n",
      "management_start_date 2316\n",
      "investment_strategy 2245\n",
      "inception_date 4499\n",
      "investment_type 3\n",
      "size_type 3\n",
      "top10_holdings 2347\n",
      "returns_as_of_date 51\n",
      "esg_peer_group 86\n",
      "\n",
      " The following columns can be deleted: \n",
      " ['fund_symbol', 'quote_type', 'region', 'currency', 'exchange_code', 'exchange_name', 'exchange_timezone', 'management_name', 'management_bio', 'management_start_date', 'inception_date', 'returns_as_of_date']\n"
     ]
    }
   ],
   "source": [
    "# instantiate list of columns to be deleted\n",
    "cols_to_delete = []\n",
    "\n",
    "# identify categorical columns to delete\n",
    "\n",
    "for col in cat_cols:\n",
    "    \n",
    "    # count the number of unique values for categorical values and print result for each column\n",
    "    value = df[col].nunique()\n",
    "    print(col, value)        \n",
    "    \n",
    "    # identify columns with only 1 value i.e. value == 1\n",
    "    # or with unique values in each column i.e. value equals total number of rows (value == df.shape[0])\n",
    "    # such columns are not useful for further analysis and can be removed from the dataset\n",
    "    \n",
    "    if value == 1 or value == df.shape[0]:\n",
    "        cols_to_delete.append(col) \n",
    "        \n",
    "    # the information about management and the date columns are not considered necessary\n",
    "    # add the columsn to the list of columns to be deleted\n",
    "\n",
    "    if col in df.filter(regex='management').columns.tolist() or col in df.filter(regex='date').columns.tolist():\n",
    "        cols_to_delete.append(col) \n",
    "        \n",
    "print(\"\\n The following columns can be deleted: \\n\", cols_to_delete)\n",
    "          "
   ]
  },
  {
   "cell_type": "code",
   "execution_count": 4,
   "metadata": {},
   "outputs": [
    {
     "data": {
      "text/plain": [
       "Index(['fund_short_name', 'fund_long_name', 'fund_category', 'fund_family',\n",
       "       'investment_strategy', 'investment_type', 'size_type', 'top10_holdings',\n",
       "       'esg_peer_group'],\n",
       "      dtype='object')"
      ]
     },
     "execution_count": 4,
     "metadata": {},
     "output_type": "execute_result"
    }
   ],
   "source": [
    "# drop columns not considered useful for further analysis\n",
    "df1 = df.drop(cols_to_delete, axis=1)\n",
    "\n",
    "# display remaining categorical variables\n",
    "cat_cols = df1.select_dtypes(include='object').columns\n",
    "cat_cols"
   ]
  },
  {
   "cell_type": "code",
   "execution_count": 5,
   "metadata": {},
   "outputs": [
    {
     "data": {
      "text/plain": [
       "Large Blend                     1235\n",
       "Large Growth                    1172\n",
       "Large Value                     1080\n",
       "Diversified Emerging Mkts        741\n",
       "Foreign Large Blend              680\n",
       "                                ... \n",
       "Miscellaneous Sector               4\n",
       "Trading--Inverse Commodities       4\n",
       "World Large-Stock Growth           1\n",
       "Market Neutral                     1\n",
       "Long-Short Credit                  1\n",
       "Name: fund_category, Length: 119, dtype: int64"
      ]
     },
     "execution_count": 5,
     "metadata": {},
     "output_type": "execute_result"
    }
   ],
   "source": [
    "df1['fund_category'].value_counts()"
   ]
  },
  {
   "cell_type": "code",
   "execution_count": 6,
   "metadata": {},
   "outputs": [
    {
     "data": {
      "image/png": "[encoded data removed]",
      "text/plain": [
       "<Figure size 432x288 with 1 Axes>"
      ]
     },
     "metadata": {
      "needs_background": "light"
     },
     "output_type": "display_data"
    }
   ],
   "source": [
    "df1['fund_category'].value_counts()[:20].plot(kind='bar');"
   ]
  },
  {
   "cell_type": "code",
   "execution_count": 7,
   "metadata": {},
   "outputs": [
    {
     "data": {
      "text/plain": [
       "Blend     10902\n",
       "Value      6847\n",
       "Growth     4925\n",
       "Name: investment_type, dtype: int64"
      ]
     },
     "execution_count": 7,
     "metadata": {},
     "output_type": "execute_result"
    }
   ],
   "source": [
    "df1['investment_type'].value_counts()"
   ]
  },
  {
   "cell_type": "code",
   "execution_count": 8,
   "metadata": {},
   "outputs": [
    {
     "data": {
      "image/png": "[encoded data removed]",
      "text/plain": [
       "<Figure size 432x288 with 1 Axes>"
      ]
     },
     "metadata": {
      "needs_background": "light"
     },
     "output_type": "display_data"
    }
   ],
   "source": [
    "df1['investment_type'].value_counts().plot(kind='bar');"
   ]
  },
  {
   "cell_type": "code",
   "execution_count": 9,
   "metadata": {},
   "outputs": [
    {
     "data": {
      "text/plain": [
       "Large     13199\n",
       "Medium     5582\n",
       "Small      3893\n",
       "Name: size_type, dtype: int64"
      ]
     },
     "execution_count": 9,
     "metadata": {},
     "output_type": "execute_result"
    }
   ],
   "source": [
    "df1['size_type'].value_counts()"
   ]
  },
  {
   "cell_type": "code",
   "execution_count": 10,
   "metadata": {},
   "outputs": [
    {
     "data": {
      "image/png": "[encoded data removed]",
      "text/plain": [
       "<Figure size 432x288 with 1 Axes>"
      ]
     },
     "metadata": {
      "needs_background": "light"
     },
     "output_type": "display_data"
    }
   ],
   "source": [
    "df1['size_type'].value_counts().plot(kind='bar');"
   ]
  },
  {
   "cell_type": "code",
   "execution_count": 11,
   "metadata": {},
   "outputs": [
    {
     "data": {
      "text/plain": [
       "US Fund Large Growth                            1209\n",
       "US Fund Large Blend                             1146\n",
       "US Fund Large Value                             1031\n",
       "US Fund World Large Stock                        815\n",
       "US Fund Diversified Emerging Mkts                699\n",
       "                                                ... \n",
       "US Fund Long-Term Bond                             2\n",
       "US Fund Bear Market                                1\n",
       "US Fund Emerging-Markets Local-Currency Bond       1\n",
       "US Fund Short Government                           1\n",
       "US Fund Miscellaneous Sector                       1\n",
       "Name: esg_peer_group, Length: 86, dtype: int64"
      ]
     },
     "execution_count": 11,
     "metadata": {},
     "output_type": "execute_result"
    }
   ],
   "source": [
    "df1['esg_peer_group'].value_counts()"
   ]
  },
  {
   "cell_type": "code",
   "execution_count": 12,
   "metadata": {},
   "outputs": [
    {
     "data": {
      "image/png": "[encoded data removed]",
      "text/plain": [
       "<Figure size 432x288 with 1 Axes>"
      ]
     },
     "metadata": {
      "needs_background": "light"
     },
     "output_type": "display_data"
    }
   ],
   "source": [
    "(df1['esg_peer_group'].value_counts()[:20]/df1.shape[0]).plot(kind='bar');"
   ]
  },
  {
   "cell_type": "code",
   "execution_count": 13,
   "metadata": {},
   "outputs": [
    {
     "name": "stdout",
     "output_type": "stream",
     "text": [
      "The investment seeks total return in excess of inflation through capital growth and current income. The fund will invest at least 80% of its net assets, plus the amount of any borrowings for investment purposes, in a combination of investments that the Advisor believes offer exposure to \"real assets.\" It generally invests between 25% and 75% of fund assets in securities of foreign issuers, including up to 10% of fund assets in issuers located in countries with new or emerging markets.\n"
     ]
    },
    {
     "data": {
      "text/plain": [
       "0    The investment seeks total return in excess of...\n",
       "1    The investment seeks long-term capital appreci...\n",
       "2    The investment seeks the highest total return ...\n",
       "3    The investment seeks long-term capital appreci...\n",
       "4    The investment seeks the highest total return ...\n",
       "Name: investment_strategy, dtype: object"
      ]
     },
     "execution_count": 13,
     "metadata": {},
     "output_type": "execute_result"
    }
   ],
   "source": [
    "# print the value in the first row of the 'investment_strategy' column and display first 5 rows\n",
    "print(df1['investment_strategy'][0])\n",
    "df1['investment_strategy'].head()"
   ]
  },
  {
   "cell_type": "markdown",
   "metadata": {},
   "source": [
    "The `investment_strategy` column is a full description of the strategy which does lend itself to futher analysis in a simple way and can be dropped"
   ]
  },
  {
   "cell_type": "code",
   "execution_count": 14,
   "metadata": {},
   "outputs": [],
   "source": [
    "df1.drop('investment_strategy', axis=1, inplace=True)"
   ]
  },
  {
   "cell_type": "markdown",
   "metadata": {},
   "source": [
    "## 3. Dropping columns with the most missing values<a name=\"item3\"></a>\n",
    "<a href=\"#itemA\">*`Table of content`*</a>\n"
   ]
  },
  {
   "cell_type": "code",
   "execution_count": 15,
   "metadata": {},
   "outputs": [
    {
     "name": "stdout",
     "output_type": "stream",
     "text": [
      "73\n"
     ]
    },
    {
     "data": {
      "text/plain": [
       "Index(['subsequent_investment', 'last_cap_gain', 'fund_max_12b1_fee',\n",
       "       'fund_max_front_end_sales_load', 'fund_max_deferred_sales_load',\n",
       "       'fund_bond_maturity', 'fund_bond_duration', 'fund_bonds_us_government',\n",
       "       'fund_bonds_aaa', 'fund_bonds_aa', 'fund_bonds_a', 'fund_bonds_bbb',\n",
       "       'fund_bonds_bb', 'fund_bonds_b', 'fund_bonds_below_b',\n",
       "       'fund_bonds_others', 'fund_return_2010', 'fund_return_2009',\n",
       "       'fund_return_2008', 'fund_return_2007', 'fund_return_2006',\n",
       "       'fund_return_2005', 'fund_return_2004', 'fund_return_2003',\n",
       "       'fund_return_2002', 'fund_return_2001', 'fund_return_2000',\n",
       "       'fund_return_2021_q3', 'fund_return_2021_q2', 'fund_return_2010_q4',\n",
       "       'fund_return_2010_q3', 'fund_return_2010_q2', 'fund_return_2010_q1',\n",
       "       'fund_return_2009_q4', 'fund_return_2009_q3', 'fund_return_2009_q2',\n",
       "       'fund_return_2009_q1', 'fund_return_2008_q4', 'fund_return_2008_q3',\n",
       "       'fund_return_2008_q2', 'fund_return_2008_q1', 'fund_return_2007_q4',\n",
       "       'fund_return_2007_q3', 'fund_return_2007_q2', 'fund_return_2007_q1',\n",
       "       'fund_return_2006_q4', 'fund_return_2006_q3', 'fund_return_2006_q2',\n",
       "       'fund_return_2006_q1', 'fund_return_2005_q4', 'fund_return_2005_q3',\n",
       "       'fund_return_2005_q2', 'fund_return_2005_q1', 'fund_return_2004_q4',\n",
       "       'fund_return_2004_q3', 'fund_return_2004_q2', 'fund_return_2004_q1',\n",
       "       'fund_return_2003_q4', 'fund_return_2003_q3', 'fund_return_2003_q2',\n",
       "       'fund_return_2003_q1', 'fund_return_2002_q4', 'fund_return_2002_q3',\n",
       "       'fund_return_2002_q2', 'fund_return_2002_q1', 'fund_return_2001_q4',\n",
       "       'fund_return_2001_q3', 'fund_return_2001_q2', 'fund_return_2001_q1',\n",
       "       'fund_return_2000_q4', 'fund_return_2000_q3', 'fund_return_2000_q2',\n",
       "       'fund_return_2000_q1'],\n",
       "      dtype='object')"
      ]
     },
     "execution_count": 15,
     "metadata": {},
     "output_type": "execute_result"
    }
   ],
   "source": [
    "#Generate a list of columns with more than 50% of the values missing\n",
    "\n",
    "most_missing_cols = df1.columns[df1.isnull().mean() > 0.50]\n",
    "print(len(most_missing_cols))\n",
    "most_missing_cols"
   ]
  },
  {
   "cell_type": "markdown",
   "metadata": {},
   "source": [
    "The columns with half (50%) or more missing values include sales load measures (fund_max_12b1_fee', 'fund_max_front_end_sales_load', 'fund_max_deferred_sales_load'). Our analysis will mostly be focused on return and risk measures hence these columsn can be dropped.\n",
    "\n",
    "The fund and return data for 2000 to 2010 and quarterly returns for 2021 also appear in the list of most missing columns. We can also drop these columns as the dataset includes return data for the years 2011 to 2020 which is of more relevant since this is 10 years of the most recent return data. All quarterly returns can also be dropped as the focus will be on annual measures.\n",
    "\n",
    "Also included are columns that apply only to credit funds i.e columns with the prefix \"fund_bonds_\". As our analysis will not be focused on credit specific measures we can also drop these columns  "
   ]
  },
  {
   "cell_type": "code",
   "execution_count": 16,
   "metadata": {},
   "outputs": [
    {
     "data": {
      "text/plain": [
       "(23783, 171)"
      ]
     },
     "execution_count": 16,
     "metadata": {},
     "output_type": "execute_result"
    }
   ],
   "source": [
    "# drop columns with 50% or more missing values\n",
    "\n",
    "df1.drop(most_missing_cols, axis=1, inplace=True)\n",
    "\n",
    "# drop all other quarterly returns columns i.e. columns with the suffix '_q'\n",
    "\n",
    "df1.drop(df1.filter(regex='_q').columns.tolist(), axis=1, inplace=True)\n",
    "\n",
    "df1.shape"
   ]
  },
  {
   "cell_type": "markdown",
   "metadata": {},
   "source": [
    "## 4. Question No. 1: Fund Return and Fund Expense Ratios<a name=\"item4\"></a>\n",
    "<a href=\"#itemA\">*`Table of content`*</a>\n"
   ]
  },
  {
   "cell_type": "markdown",
   "metadata": {},
   "source": [
    "Question 1 - Is the expense ratio a good factor to consider when seeking to select funds that generate the best return.\n",
    "\n",
    "One of the common pieces of advice that retail investors are given for selecting funds to invest in is to consider funds with a low expense ratio. In this section I will explore if the data really support the theory that a low expense ratio is a good proxy for selecting funds that will generate good performance."
   ]
  },
  {
   "cell_type": "code",
   "execution_count": 17,
   "metadata": {},
   "outputs": [
    {
     "name": "stderr",
     "output_type": "stream",
     "text": [
      "C:\\Users\\E041938\\Anaconda3\\lib\\site-packages\\seaborn\\_decorators.py:36: FutureWarning: Pass the following variables as keyword args: x, y. From version 0.12, the only valid positional argument will be `data`, and passing other arguments without an explicit keyword will result in an error or misinterpretation.\n",
      "  warnings.warn(\n"
     ]
    },
    {
     "data": {
      "image/png": "[encoded data removed]",
      "text/plain": [
       "<Figure size 576x432 with 1 Axes>"
      ]
     },
     "metadata": {
      "needs_background": "light"
     },
     "output_type": "display_data"
    }
   ],
   "source": [
    "# Visualize the relationship between expense ration and fund return using a scatter plot\n",
    "plt.figure(figsize=(8,6))\n",
    "sns.scatterplot('fund_annual_report_net_expense_ratio', 'fund_return_10years', data=df1)\n",
    "plt.title('Scatter Plot of Net Expense Ratio Versus Ten Year Return - Fund Level');"
   ]
  },
  {
   "cell_type": "code",
   "execution_count": 18,
   "metadata": {},
   "outputs": [
    {
     "data": {
      "text/html": [
       "<div>\n",
       "<style scoped>\n",
       "    .dataframe tbody tr th:only-of-type {\n",
       "        vertical-align: middle;\n",
       "    }\n",
       "\n",
       "    .dataframe tbody tr th {\n",
       "        vertical-align: top;\n",
       "    }\n",
       "\n",
       "    .dataframe thead th {\n",
       "        text-align: right;\n",
       "    }\n",
       "</style>\n",
       "<table border=\"1\" class=\"dataframe\">\n",
       "  <thead>\n",
       "    <tr style=\"text-align: right;\">\n",
       "      <th></th>\n",
       "      <th>fund_annual_report_net_expense_ratio</th>\n",
       "      <th>fund_return_10years</th>\n",
       "    </tr>\n",
       "  </thead>\n",
       "  <tbody>\n",
       "    <tr>\n",
       "      <th>fund_annual_report_net_expense_ratio</th>\n",
       "      <td>1.00000</td>\n",
       "      <td>-0.07102</td>\n",
       "    </tr>\n",
       "    <tr>\n",
       "      <th>fund_return_10years</th>\n",
       "      <td>-0.07102</td>\n",
       "      <td>1.00000</td>\n",
       "    </tr>\n",
       "  </tbody>\n",
       "</table>\n",
       "</div>"
      ],
      "text/plain": [
       "                                      fund_annual_report_net_expense_ratio  \\\n",
       "fund_annual_report_net_expense_ratio                               1.00000   \n",
       "fund_return_10years                                               -0.07102   \n",
       "\n",
       "                                      fund_return_10years  \n",
       "fund_annual_report_net_expense_ratio             -0.07102  \n",
       "fund_return_10years                               1.00000  "
      ]
     },
     "execution_count": 18,
     "metadata": {},
     "output_type": "execute_result"
    }
   ],
   "source": [
    "# the visual above did not suggest a strong correlation \n",
    "# we can confirm this by calculating the correlation statistic using the corr() function in pandas\n",
    "\n",
    "df1[['fund_annual_report_net_expense_ratio', 'fund_return_10years']].corr()"
   ]
  },
  {
   "cell_type": "markdown",
   "metadata": {},
   "source": [
    "A score close to zero as per the correlation matrix above suggests there is a very weak correlation which is consistent with what we observed in the scatterplot.\n",
    "\n",
    "However, the above observation was made using the overall population. Perhaps the expense ratio is more meaningful when an investor is making a decision about which fund category to invest in. Is it possible that this relationship can be used to  narrow down the selection of a given fund category amongst the different fund caegories. \n",
    "\n",
    "We will next explore if the expense ratio may be more meaningful when examined at the fund category level"
   ]
  },
  {
   "cell_type": "code",
   "execution_count": 19,
   "metadata": {},
   "outputs": [
    {
     "data": {
      "text/html": [
       "<div>\n",
       "<style scoped>\n",
       "    .dataframe tbody tr th:only-of-type {\n",
       "        vertical-align: middle;\n",
       "    }\n",
       "\n",
       "    .dataframe tbody tr th {\n",
       "        vertical-align: top;\n",
       "    }\n",
       "\n",
       "    .dataframe thead th {\n",
       "        text-align: right;\n",
       "    }\n",
       "</style>\n",
       "<table border=\"1\" class=\"dataframe\">\n",
       "  <thead>\n",
       "    <tr style=\"text-align: right;\">\n",
       "      <th></th>\n",
       "      <th>category_return_10years</th>\n",
       "      <th>fund_return_10years</th>\n",
       "      <th>fund_annual_report_net_expense_ratio</th>\n",
       "      <th>category_annual_report_net_expense_ratio</th>\n",
       "    </tr>\n",
       "    <tr>\n",
       "      <th>fund_category</th>\n",
       "      <th></th>\n",
       "      <th></th>\n",
       "      <th></th>\n",
       "      <th></th>\n",
       "    </tr>\n",
       "  </thead>\n",
       "  <tbody>\n",
       "    <tr>\n",
       "      <th>Allocation--15% to 30% Equity</th>\n",
       "      <td>0.046810</td>\n",
       "      <td>0.048898</td>\n",
       "      <td>0.009908</td>\n",
       "      <td>0.0064</td>\n",
       "    </tr>\n",
       "    <tr>\n",
       "      <th>Allocation--30% to 50% Equity</th>\n",
       "      <td>0.060207</td>\n",
       "      <td>0.063869</td>\n",
       "      <td>0.010247</td>\n",
       "      <td>0.0072</td>\n",
       "    </tr>\n",
       "    <tr>\n",
       "      <th>Allocation--50% to 70% Equity</th>\n",
       "      <td>0.081517</td>\n",
       "      <td>0.086709</td>\n",
       "      <td>0.010839</td>\n",
       "      <td>0.0084</td>\n",
       "    </tr>\n",
       "    <tr>\n",
       "      <th>Allocation--70% to 85% Equity</th>\n",
       "      <td>0.086611</td>\n",
       "      <td>0.091766</td>\n",
       "      <td>0.010948</td>\n",
       "      <td>0.0070</td>\n",
       "    </tr>\n",
       "    <tr>\n",
       "      <th>Allocation--85%+ Equity</th>\n",
       "      <td>0.097900</td>\n",
       "      <td>0.106694</td>\n",
       "      <td>0.012530</td>\n",
       "      <td>0.0073</td>\n",
       "    </tr>\n",
       "  </tbody>\n",
       "</table>\n",
       "</div>"
      ],
      "text/plain": [
       "                               category_return_10years  fund_return_10years  \\\n",
       "fund_category                                                                 \n",
       "Allocation--15% to 30% Equity                 0.046810             0.048898   \n",
       "Allocation--30% to 50% Equity                 0.060207             0.063869   \n",
       "Allocation--50% to 70% Equity                 0.081517             0.086709   \n",
       "Allocation--70% to 85% Equity                 0.086611             0.091766   \n",
       "Allocation--85%+ Equity                       0.097900             0.106694   \n",
       "\n",
       "                               fund_annual_report_net_expense_ratio  \\\n",
       "fund_category                                                         \n",
       "Allocation--15% to 30% Equity                              0.009908   \n",
       "Allocation--30% to 50% Equity                              0.010247   \n",
       "Allocation--50% to 70% Equity                              0.010839   \n",
       "Allocation--70% to 85% Equity                              0.010948   \n",
       "Allocation--85%+ Equity                                    0.012530   \n",
       "\n",
       "                               category_annual_report_net_expense_ratio  \n",
       "fund_category                                                            \n",
       "Allocation--15% to 30% Equity                                    0.0064  \n",
       "Allocation--30% to 50% Equity                                    0.0072  \n",
       "Allocation--50% to 70% Equity                                    0.0084  \n",
       "Allocation--70% to 85% Equity                                    0.0070  \n",
       "Allocation--85%+ Equity                                          0.0073  "
      ]
     },
     "execution_count": 19,
     "metadata": {},
     "output_type": "execute_result"
    }
   ],
   "source": [
    "groupby_dict = {'category_return_10years':np.mean, \n",
    "                'fund_return_10years':np.mean, \n",
    "                'fund_annual_report_net_expense_ratio':np.mean,\n",
    "                'category_annual_report_net_expense_ratio':np.mean}\n",
    "\n",
    "df1_grouped_cat = df1.groupby('fund_category').agg(groupby_dict)\n",
    "\n",
    "df1_grouped_cat.head()\n"
   ]
  },
  {
   "cell_type": "code",
   "execution_count": 20,
   "metadata": {},
   "outputs": [
    {
     "name": "stderr",
     "output_type": "stream",
     "text": [
      "C:\\Users\\E041938\\Anaconda3\\lib\\site-packages\\seaborn\\_decorators.py:36: FutureWarning: Pass the following variables as keyword args: x, y. From version 0.12, the only valid positional argument will be `data`, and passing other arguments without an explicit keyword will result in an error or misinterpretation.\n",
      "  warnings.warn(\n"
     ]
    },
    {
     "data": {
      "image/png": "[encoded data removed]",
      "text/plain": [
       "<Figure size 576x432 with 1 Axes>"
      ]
     },
     "metadata": {
      "needs_background": "light"
     },
     "output_type": "display_data"
    }
   ],
   "source": [
    "# Visualize the relationship between expense ratio and fund return using a scatter plot\n",
    "plt.figure(figsize=(8,6))\n",
    "\n",
    "sns.scatterplot('fund_annual_report_net_expense_ratio', 'fund_return_10years', data=df1_grouped_cat)\n",
    "plt.title('Scatter Plot of Net Expense Ratio Versus Ten Year Return - Fund Category Level');"
   ]
  },
  {
   "cell_type": "markdown",
   "metadata": {},
   "source": [
    "The visual above suggests that the relationship between performance and the expense ratio strengthens when using the the mean returns and expense ratio at the fund category level. "
   ]
  },
  {
   "cell_type": "code",
   "execution_count": 21,
   "metadata": {},
   "outputs": [
    {
     "data": {
      "text/html": [
       "<div>\n",
       "<style scoped>\n",
       "    .dataframe tbody tr th:only-of-type {\n",
       "        vertical-align: middle;\n",
       "    }\n",
       "\n",
       "    .dataframe tbody tr th {\n",
       "        vertical-align: top;\n",
       "    }\n",
       "\n",
       "    .dataframe thead th {\n",
       "        text-align: right;\n",
       "    }\n",
       "</style>\n",
       "<table border=\"1\" class=\"dataframe\">\n",
       "  <thead>\n",
       "    <tr style=\"text-align: right;\">\n",
       "      <th></th>\n",
       "      <th>fund_annual_report_net_expense_ratio</th>\n",
       "      <th>fund_return_10years</th>\n",
       "    </tr>\n",
       "  </thead>\n",
       "  <tbody>\n",
       "    <tr>\n",
       "      <th>fund_annual_report_net_expense_ratio</th>\n",
       "      <td>1.00000</td>\n",
       "      <td>-0.27154</td>\n",
       "    </tr>\n",
       "    <tr>\n",
       "      <th>fund_return_10years</th>\n",
       "      <td>-0.27154</td>\n",
       "      <td>1.00000</td>\n",
       "    </tr>\n",
       "  </tbody>\n",
       "</table>\n",
       "</div>"
      ],
      "text/plain": [
       "                                      fund_annual_report_net_expense_ratio  \\\n",
       "fund_annual_report_net_expense_ratio                               1.00000   \n",
       "fund_return_10years                                               -0.27154   \n",
       "\n",
       "                                      fund_return_10years  \n",
       "fund_annual_report_net_expense_ratio             -0.27154  \n",
       "fund_return_10years                               1.00000  "
      ]
     },
     "execution_count": 21,
     "metadata": {},
     "output_type": "execute_result"
    }
   ],
   "source": [
    "# we can confirm this by calculating the correlation statistic using the corr() function in pandas\n",
    "\n",
    "df1_grouped_cat[['fund_annual_report_net_expense_ratio', 'fund_return_10years']].corr()"
   ]
  },
  {
   "cell_type": "markdown",
   "metadata": {},
   "source": [
    "Although the correlation is still fairly weak, it appears to be more relevant when comparing different fund categories. We can conclude that the relationship between expense ratio and fund return may have limited use for selecting the fund category to focus. \n",
    "\n",
    "We can explore this further by identifying the top 5 categories that on average outperform and also have low expense ratios\n",
    "\n",
    "First we create a function to identify the funds that outperform their average return for their category and those that underperform. We do this using a function called `outperform_category` as shown below:"
   ]
  },
  {
   "cell_type": "code",
   "execution_count": 22,
   "metadata": {},
   "outputs": [
    {
     "name": "stdout",
     "output_type": "stream",
     "text": [
      "0     1\n",
      "3     1\n",
      "5     1\n",
      "14    1\n",
      "15    1\n",
      "Name: outperforms_category, dtype: int64\n",
      "12    0\n",
      "13    0\n",
      "29    0\n",
      "39    0\n",
      "41    0\n",
      "Name: outperforms_category, dtype: int64\n"
     ]
    }
   ],
   "source": [
    "def outperform_category(df):\n",
    "    '''\n",
    "    INPUT\n",
    "        Dataframe with the following columns:\n",
    "        1. fund_return_10years - column for each fund's 10 year return\n",
    "        2. category_return_10years - column for the 10 year return of the category to which a fund belongs \n",
    "    OUTPUT\n",
    "        return 1 if the fund_return_10years is greater than category_return_10years\n",
    "        rturn -1 if the the fund does not have a value in the fund_return_10years columm\n",
    "        return 0 otherwise\n",
    "    \n",
    "    '''\n",
    "    if df['fund_return_10years'] > df['category_return_10years']:\n",
    "        return 1\n",
    "    elif np.isnan(df['fund_return_10years']):\n",
    "        return -1\n",
    "    else:\n",
    "        return 0\n",
    "    \n",
    "\n",
    "# Create column that indentfies fund which outperform (1) or underperforms(0) the category return\n",
    "# or have no fund 10 year return (-1)\n",
    "\n",
    "df1['outperforms_category'] = df1[['fund_return_10years', 'category_return_10years']].apply(outperform_category, axis=1)\n",
    "\n",
    "outperform = df1[df1['outperforms_category'] == 1] # Subset df to only those with HigherEd of 1\n",
    "underperform = df1[df1['outperforms_category'] == 0] # Subset df to only those with HigherEd of 0\n",
    "\n",
    "print(outperform ['outperforms_category'][:5]) #Assure it looks like what you would expect\n",
    "print(underperform['outperforms_category'][:5]) #Assure it looks like what you would expect"
   ]
  },
  {
   "cell_type": "markdown",
   "metadata": {},
   "source": [
    "Next we calculate the proportion of funds in each category that outperform the average for their category and those that underperform. We use the function `perform_pct` to calculate these proportions. \n",
    "\n",
    "We call this function to create the dataframe `cat_perform_df` which stores the outperformance and underperformance proportions by category"
   ]
  },
  {
   "cell_type": "code",
   "execution_count": 23,
   "metadata": {},
   "outputs": [],
   "source": [
    "def perform_pct(df):    \n",
    "    performance = df['fund_category'].value_counts().reset_index()\n",
    "    performance.rename(columns={'index': 'category', 'fund_category': 'count'}, inplace=True)\n",
    "    performance_df = defaultdict(int)\n",
    "    \n",
    "    #loop through list of fund categories    \n",
    "    for val in performance['category'].unique().tolist():\n",
    "        #loop through rows\n",
    "        for idx in range(performance.shape[0]):\n",
    "            #if the fund category is in the row add 1\n",
    "            if val in performance['category'][idx]:\n",
    "                performance_df[val] += int(performance['count'][idx])\n",
    "                \n",
    "    performance_df = pd.DataFrame(pd.Series(performance_df)).reset_index()\n",
    "    performance_df.columns = ['category', 'count']\n",
    "    performance_df.sort_values('count', ascending=False, inplace=True)\n",
    "    performance_df.set_index('category', inplace=True)\n",
    "    \n",
    "    return performance_df/performance_df.sum()\n",
    "    \n",
    "outperform_pct = perform_pct(outperform)\n",
    "underperform_pct = perform_pct(underperform)\n",
    "\n",
    "cat_perform_df = pd.merge(outperform_pct, underperform_pct, left_index=True, right_index=True)\n",
    "cat_perform_df.columns = ['outperform_perc', 'underperform_perc']\n",
    "cat_perform_df['Performance_Difference'] = cat_perform_df['outperform_perc'] - cat_perform_df['underperform_perc']\n",
    "cat_perform_df.sort_values(by='Performance_Difference', axis = 0, ascending=False, inplace=True)\n"
   ]
  },
  {
   "cell_type": "code",
   "execution_count": 24,
   "metadata": {},
   "outputs": [
    {
     "data": {
      "text/html": [
       "<style type=\"text/css\">\n",
       "#T_b8bd7_row0_col2 {\n",
       "  width: 10em;\n",
       "  height: 80%;\n",
       "  background: linear-gradient(90deg,#5fba7d 100.0%, transparent 100.0%);\n",
       "}\n",
       "#T_b8bd7_row1_col2 {\n",
       "  width: 10em;\n",
       "  height: 80%;\n",
       "  background: linear-gradient(90deg,#5fba7d 88.6%, transparent 88.6%);\n",
       "}\n",
       "#T_b8bd7_row2_col2 {\n",
       "  width: 10em;\n",
       "  height: 80%;\n",
       "  background: linear-gradient(90deg,#5fba7d 78.9%, transparent 78.9%);\n",
       "}\n",
       "#T_b8bd7_row3_col2 {\n",
       "  width: 10em;\n",
       "  height: 80%;\n",
       "  background: linear-gradient(90deg,#5fba7d 43.0%, transparent 43.0%);\n",
       "}\n",
       "#T_b8bd7_row4_col2 {\n",
       "  width: 10em;\n",
       "  height: 80%;\n",
       "  background: linear-gradient(90deg,#5fba7d 31.3%, transparent 31.3%);\n",
       "}\n",
       "</style>\n",
       "<table id=\"T_b8bd7_\">\n",
       "  <thead>\n",
       "    <tr>\n",
       "      <th class=\"blank level0\" >&nbsp;</th>\n",
       "      <th class=\"col_heading level0 col0\" >outperform_perc</th>\n",
       "      <th class=\"col_heading level0 col1\" >underperform_perc</th>\n",
       "      <th class=\"col_heading level0 col2\" >Performance_Difference</th>\n",
       "    </tr>\n",
       "    <tr>\n",
       "      <th class=\"index_name level0\" >category</th>\n",
       "      <th class=\"blank col0\" >&nbsp;</th>\n",
       "      <th class=\"blank col1\" >&nbsp;</th>\n",
       "      <th class=\"blank col2\" >&nbsp;</th>\n",
       "    </tr>\n",
       "  </thead>\n",
       "  <tbody>\n",
       "    <tr>\n",
       "      <th id=\"T_b8bd7_level0_row0\" class=\"row_heading level0 row0\" >Large Blend</th>\n",
       "      <td id=\"T_b8bd7_row0_col0\" class=\"data row0 col0\" >0.098209</td>\n",
       "      <td id=\"T_b8bd7_row0_col1\" class=\"data row0 col1\" >0.066154</td>\n",
       "      <td id=\"T_b8bd7_row0_col2\" class=\"data row0 col2\" >0.032055</td>\n",
       "    </tr>\n",
       "    <tr>\n",
       "      <th id=\"T_b8bd7_level0_row1\" class=\"row_heading level0 row1\" >Large Growth</th>\n",
       "      <td id=\"T_b8bd7_row1_col0\" class=\"data row1 col0\" >0.083217</td>\n",
       "      <td id=\"T_b8bd7_row1_col1\" class=\"data row1 col1\" >0.054808</td>\n",
       "      <td id=\"T_b8bd7_row1_col2\" class=\"data row1 col2\" >0.028409</td>\n",
       "    </tr>\n",
       "    <tr>\n",
       "      <th id=\"T_b8bd7_level0_row2\" class=\"row_heading level0 row2\" >Mid-Cap Growth</th>\n",
       "      <td id=\"T_b8bd7_row2_col0\" class=\"data row2 col0\" >0.036844</td>\n",
       "      <td id=\"T_b8bd7_row2_col1\" class=\"data row2 col1\" >0.011538</td>\n",
       "      <td id=\"T_b8bd7_row2_col2\" class=\"data row2 col2\" >0.025306</td>\n",
       "    </tr>\n",
       "    <tr>\n",
       "      <th id=\"T_b8bd7_level0_row3\" class=\"row_heading level0 row3\" >Real Estate</th>\n",
       "      <td id=\"T_b8bd7_row3_col0\" class=\"data row3 col0\" >0.022615</td>\n",
       "      <td id=\"T_b8bd7_row3_col1\" class=\"data row3 col1\" >0.008846</td>\n",
       "      <td id=\"T_b8bd7_row3_col2\" class=\"data row3 col2\" >0.013769</td>\n",
       "    </tr>\n",
       "    <tr>\n",
       "      <th id=\"T_b8bd7_level0_row4\" class=\"row_heading level0 row4\" >Small Growth</th>\n",
       "      <td id=\"T_b8bd7_row4_col0\" class=\"data row4 col0\" >0.031762</td>\n",
       "      <td id=\"T_b8bd7_row4_col1\" class=\"data row4 col1\" >0.021731</td>\n",
       "      <td id=\"T_b8bd7_row4_col2\" class=\"data row4 col2\" >0.010031</td>\n",
       "    </tr>\n",
       "  </tbody>\n",
       "</table>\n"
      ],
      "text/plain": [
       "<pandas.io.formats.style.Styler at 0x2c60c03fc70>"
      ]
     },
     "execution_count": 24,
     "metadata": {},
     "output_type": "execute_result"
    }
   ],
   "source": [
    "# top 5 most outperforming strategies that also have lower expense ratios on average\n",
    "\n",
    "cat_perform_df[:5].style.bar(subset=['Performance_Difference'], align='mid', color=['#d65f5f', '#5fba7d'])"
   ]
  },
  {
   "cell_type": "markdown",
   "metadata": {},
   "source": [
    "## 5. Question No. 2: Top holdings in best performing funds<a name=\"item5\"></a>\n",
    "<a href=\"#itemA\">*`Table of content`*</a>"
   ]
  },
  {
   "cell_type": "code",
   "execution_count": 25,
   "metadata": {},
   "outputs": [
    {
     "data": {
      "text/plain": [
       "0        \"Cayman Real Assets Fund Ltd.\": 0.1098, CCI (\"...\n",
       "1        AZN. L (\"AstraZeneca PLC ADR\"): 0.0585, MDT (\"...\n",
       "2        AVBNX (\"Avantis© Core Fixed Income G\"): 0.2708...\n",
       "3        AMZN (\"Amazon.com Inc\"): 0.1102, MSFT (\"Micros...\n",
       "4        AVBNX (\"Avantis© Core Fixed Income G\"): 0.2708...\n",
       "                               ...                        \n",
       "23778    SBNY (\"Signature Bank\"): 0.0213, FBC (\"Flagsta...\n",
       "23779    \"Capital Group Central Cash Fund\": 0.0499, \"Ja...\n",
       "23780    MSFT (\"Microsoft Corp\"): 0.0334, AVGO (\"Broadc...\n",
       "23781    00700 (\"Tencent Holdings Ltd\"): 0.1334, 09988 ...\n",
       "23782    ROP (\"Roper Technologies Inc\"): 0.0984, HON (\"...\n",
       "Name: top10_holdings, Length: 23783, dtype: object"
      ]
     },
     "execution_count": 25,
     "metadata": {},
     "output_type": "execute_result"
    }
   ],
   "source": [
    "# let's take a loot at what state the top10_holdings column is currently in\n",
    "df1.top10_holdings"
   ]
  },
  {
   "cell_type": "markdown",
   "metadata": {},
   "source": [
    "We won't be able to use this field in its current form and will need to split it into 10 separate columns to hold each of the top 10 holdings for each respective fund"
   ]
  },
  {
   "cell_type": "code",
   "execution_count": 26,
   "metadata": {},
   "outputs": [
    {
     "data": {
      "text/html": [
       "<div>\n",
       "<style scoped>\n",
       "    .dataframe tbody tr th:only-of-type {\n",
       "        vertical-align: middle;\n",
       "    }\n",
       "\n",
       "    .dataframe tbody tr th {\n",
       "        vertical-align: top;\n",
       "    }\n",
       "\n",
       "    .dataframe thead th {\n",
       "        text-align: right;\n",
       "    }\n",
       "</style>\n",
       "<table border=\"1\" class=\"dataframe\">\n",
       "  <thead>\n",
       "    <tr style=\"text-align: right;\">\n",
       "      <th></th>\n",
       "      <th>fund_short_name</th>\n",
       "      <th>fund_long_name</th>\n",
       "      <th>initial_investment</th>\n",
       "      <th>fund_category</th>\n",
       "      <th>fund_family</th>\n",
       "      <th>total_net_assets</th>\n",
       "      <th>year_to_date_return</th>\n",
       "      <th>day50_moving_average</th>\n",
       "      <th>day200_moving_average</th>\n",
       "      <th>week52_high_low_change</th>\n",
       "      <th>...</th>\n",
       "      <th>top_1</th>\n",
       "      <th>top_2</th>\n",
       "      <th>top_3</th>\n",
       "      <th>top_4</th>\n",
       "      <th>top_5</th>\n",
       "      <th>top_6</th>\n",
       "      <th>top_7</th>\n",
       "      <th>top_8</th>\n",
       "      <th>top_9</th>\n",
       "      <th>top_10</th>\n",
       "    </tr>\n",
       "  </thead>\n",
       "  <tbody>\n",
       "    <tr>\n",
       "      <th>0</th>\n",
       "      <td>DWS RREEF Real Assets Fund - Cl</td>\n",
       "      <td>DWS RREEF Real Assets Fund - Class A</td>\n",
       "      <td>1000.0</td>\n",
       "      <td>World Allocation</td>\n",
       "      <td>DWS</td>\n",
       "      <td>2.979347e+09</td>\n",
       "      <td>0.21026</td>\n",
       "      <td>12.788</td>\n",
       "      <td>12.369</td>\n",
       "      <td>2.44</td>\n",
       "      <td>...</td>\n",
       "      <td>Cayman Real Assets Fund Ltd.</td>\n",
       "      <td>Crown Castle International Corp</td>\n",
       "      <td>Cheniere Energy Inc</td>\n",
       "      <td>United States Treasury Notes 1.62%</td>\n",
       "      <td>Freeport-McMoRan Inc</td>\n",
       "      <td>United States Treasury Notes 0.12%</td>\n",
       "      <td>American Tower Corp</td>\n",
       "      <td>Williams Companies Inc</td>\n",
       "      <td>Lme Pri Alum Futr Jul21 Xlme 20210719</td>\n",
       "      <td>NaN</td>\n",
       "    </tr>\n",
       "    <tr>\n",
       "      <th>1</th>\n",
       "      <td>AllianzGI Health Sciences Fund</td>\n",
       "      <td>Virtus AllianzGI Health Sciences Fund Class P</td>\n",
       "      <td>1000000.0</td>\n",
       "      <td>Health</td>\n",
       "      <td>Virtus</td>\n",
       "      <td>1.953489e+08</td>\n",
       "      <td>0.19077</td>\n",
       "      <td>40.513</td>\n",
       "      <td>38.650</td>\n",
       "      <td>8.53</td>\n",
       "      <td>...</td>\n",
       "      <td>AstraZeneca PLC ADR</td>\n",
       "      <td>Medtronic PLC</td>\n",
       "      <td>Bristol-Myers Squibb Company</td>\n",
       "      <td>Pfizer Inc</td>\n",
       "      <td>Eli Lilly and Co</td>\n",
       "      <td>Avantor Inc</td>\n",
       "      <td>Anthem Inc</td>\n",
       "      <td>Novartis AG ADR</td>\n",
       "      <td>Horizon Therapeutics PLC</td>\n",
       "      <td>Teleflex Inc</td>\n",
       "    </tr>\n",
       "    <tr>\n",
       "      <th>2</th>\n",
       "      <td>NaN</td>\n",
       "      <td>American Century One Choice Blend+ 2015 Portfo...</td>\n",
       "      <td>2500.0</td>\n",
       "      <td>Target-Date 2015</td>\n",
       "      <td>American Century Investments</td>\n",
       "      <td>2.594600e+04</td>\n",
       "      <td>NaN</td>\n",
       "      <td>10.544</td>\n",
       "      <td>10.392</td>\n",
       "      <td>0.76</td>\n",
       "      <td>...</td>\n",
       "      <td>Avantis© Core Fixed Income G</td>\n",
       "      <td>American Century Global Bond G</td>\n",
       "      <td>Avantis© U.S. Equity G</td>\n",
       "      <td>American Century NT Focused Lg Cap Val G</td>\n",
       "      <td>American Century Short Dur Infl ProBd G</td>\n",
       "      <td>Avantis© Short-Term Fixed Income G</td>\n",
       "      <td>American Century Focused Dynamic Gr G</td>\n",
       "      <td>American Century Inflation-Adjs Bond G</td>\n",
       "      <td>American Century Low Volatility ETF</td>\n",
       "      <td>Avantis© International Equity G</td>\n",
       "    </tr>\n",
       "    <tr>\n",
       "      <th>3</th>\n",
       "      <td>Thrivent Large Cap Growth Fund</td>\n",
       "      <td>Thrivent Large Cap Growth Fund Class A</td>\n",
       "      <td>2000.0</td>\n",
       "      <td>Large Growth</td>\n",
       "      <td>Thrivent Funds</td>\n",
       "      <td>2.078607e+09</td>\n",
       "      <td>0.24559</td>\n",
       "      <td>18.485</td>\n",
       "      <td>17.294</td>\n",
       "      <td>4.64</td>\n",
       "      <td>...</td>\n",
       "      <td>Amazon.com Inc</td>\n",
       "      <td>Microsoft Corp</td>\n",
       "      <td>Apple Inc</td>\n",
       "      <td>Alphabet Inc A</td>\n",
       "      <td>PayPal Holdings Inc</td>\n",
       "      <td>Facebook Inc A</td>\n",
       "      <td>Mastercard Inc A</td>\n",
       "      <td>Adobe Inc</td>\n",
       "      <td>Square Inc A</td>\n",
       "      <td>NVIDIA Corp</td>\n",
       "    </tr>\n",
       "    <tr>\n",
       "      <th>4</th>\n",
       "      <td>NaN</td>\n",
       "      <td>American Century One Choice Blend+ 2015 Portfo...</td>\n",
       "      <td>5000000.0</td>\n",
       "      <td>Target-Date 2015</td>\n",
       "      <td>American Century Investments</td>\n",
       "      <td>2.594600e+04</td>\n",
       "      <td>NaN</td>\n",
       "      <td>10.552</td>\n",
       "      <td>10.398</td>\n",
       "      <td>0.77</td>\n",
       "      <td>...</td>\n",
       "      <td>Avantis© Core Fixed Income G</td>\n",
       "      <td>American Century Global Bond G</td>\n",
       "      <td>Avantis© U.S. Equity G</td>\n",
       "      <td>American Century NT Focused Lg Cap Val G</td>\n",
       "      <td>American Century Short Dur Infl ProBd G</td>\n",
       "      <td>Avantis© Short-Term Fixed Income G</td>\n",
       "      <td>American Century Focused Dynamic Gr G</td>\n",
       "      <td>American Century Inflation-Adjs Bond G</td>\n",
       "      <td>American Century Low Volatility ETF</td>\n",
       "      <td>Avantis© International Equity G</td>\n",
       "    </tr>\n",
       "  </tbody>\n",
       "</table>\n",
       "<p>5 rows × 182 columns</p>\n",
       "</div>"
      ],
      "text/plain": [
       "                   fund_short_name  \\\n",
       "0  DWS RREEF Real Assets Fund - Cl   \n",
       "1  AllianzGI Health Sciences Fund    \n",
       "2                              NaN   \n",
       "3  Thrivent Large Cap Growth Fund    \n",
       "4                              NaN   \n",
       "\n",
       "                                      fund_long_name  initial_investment  \\\n",
       "0               DWS RREEF Real Assets Fund - Class A              1000.0   \n",
       "1      Virtus AllianzGI Health Sciences Fund Class P           1000000.0   \n",
       "2  American Century One Choice Blend+ 2015 Portfo...              2500.0   \n",
       "3             Thrivent Large Cap Growth Fund Class A              2000.0   \n",
       "4  American Century One Choice Blend+ 2015 Portfo...           5000000.0   \n",
       "\n",
       "      fund_category                   fund_family  total_net_assets  \\\n",
       "0  World Allocation                           DWS      2.979347e+09   \n",
       "1            Health                        Virtus      1.953489e+08   \n",
       "2  Target-Date 2015  American Century Investments      2.594600e+04   \n",
       "3      Large Growth                Thrivent Funds      2.078607e+09   \n",
       "4  Target-Date 2015  American Century Investments      2.594600e+04   \n",
       "\n",
       "   year_to_date_return  day50_moving_average  day200_moving_average  \\\n",
       "0              0.21026                12.788                 12.369   \n",
       "1              0.19077                40.513                 38.650   \n",
       "2                  NaN                10.544                 10.392   \n",
       "3              0.24559                18.485                 17.294   \n",
       "4                  NaN                10.552                 10.398   \n",
       "\n",
       "   week52_high_low_change  ...                         top_1  \\\n",
       "0                    2.44  ...  Cayman Real Assets Fund Ltd.   \n",
       "1                    8.53  ...           AstraZeneca PLC ADR   \n",
       "2                    0.76  ...  Avantis© Core Fixed Income G   \n",
       "3                    4.64  ...                Amazon.com Inc   \n",
       "4                    0.77  ...  Avantis© Core Fixed Income G   \n",
       "\n",
       "                             top_2                         top_3  \\\n",
       "0  Crown Castle International Corp           Cheniere Energy Inc   \n",
       "1                    Medtronic PLC  Bristol-Myers Squibb Company   \n",
       "2   American Century Global Bond G        Avantis© U.S. Equity G   \n",
       "3                   Microsoft Corp                     Apple Inc   \n",
       "4   American Century Global Bond G        Avantis© U.S. Equity G   \n",
       "\n",
       "                                      top_4  \\\n",
       "0        United States Treasury Notes 1.62%   \n",
       "1                                Pfizer Inc   \n",
       "2  American Century NT Focused Lg Cap Val G   \n",
       "3                            Alphabet Inc A   \n",
       "4  American Century NT Focused Lg Cap Val G   \n",
       "\n",
       "                                     top_5  \\\n",
       "0                     Freeport-McMoRan Inc   \n",
       "1                         Eli Lilly and Co   \n",
       "2  American Century Short Dur Infl ProBd G   \n",
       "3                      PayPal Holdings Inc   \n",
       "4  American Century Short Dur Infl ProBd G   \n",
       "\n",
       "                                top_6                                  top_7  \\\n",
       "0  United States Treasury Notes 0.12%                    American Tower Corp   \n",
       "1                         Avantor Inc                             Anthem Inc   \n",
       "2  Avantis© Short-Term Fixed Income G  American Century Focused Dynamic Gr G   \n",
       "3                      Facebook Inc A                       Mastercard Inc A   \n",
       "4  Avantis© Short-Term Fixed Income G  American Century Focused Dynamic Gr G   \n",
       "\n",
       "                                    top_8  \\\n",
       "0                  Williams Companies Inc   \n",
       "1                         Novartis AG ADR   \n",
       "2  American Century Inflation-Adjs Bond G   \n",
       "3                               Adobe Inc   \n",
       "4  American Century Inflation-Adjs Bond G   \n",
       "\n",
       "                                   top_9                           top_10  \n",
       "0  Lme Pri Alum Futr Jul21 Xlme 20210719                              NaN  \n",
       "1               Horizon Therapeutics PLC                     Teleflex Inc  \n",
       "2    American Century Low Volatility ETF  Avantis© International Equity G  \n",
       "3                           Square Inc A                      NVIDIA Corp  \n",
       "4    American Century Low Volatility ETF  Avantis© International Equity G  \n",
       "\n",
       "[5 rows x 182 columns]"
      ]
     },
     "execution_count": 26,
     "metadata": {},
     "output_type": "execute_result"
    }
   ],
   "source": [
    "# get extract of dataset with only the rows that have a value in the top10_holdings columns \n",
    "df_top = df1[df1.top10_holdings.isnull() == False]\n",
    "\n",
    "# create list with column names for each of the top 10 holdings\n",
    "cols = ['top_1', 'top_2', 'top_3', 'top_4', 'top_5', 'top_6', 'top_7', 'top_8', 'top_9', 'top_10']\n",
    "\n",
    "# lambda function to split top10_holdings column into a series of lists containing the top 10 holdings\n",
    "# the function uses regular expression to extract the text in between double quotes based on the pattern observed\n",
    "split_top10 = lambda row: re.findall('\"([^\"]*)\"', row)\n",
    "\n",
    "# apply function to create a series of lists of each rows top 10 holdings\n",
    "top10 = df_top['top10_holdings'].apply(split_top10).tolist()\n",
    "\n",
    "# some rows do not have 10 holdings. This loop will append nans to ensure each list has 10 values\n",
    "for top in top10:\n",
    "    top_len = 10 - len(top)\n",
    "    while top_len > 0:\n",
    "        top.append(np.nan)\n",
    "        top_len = top_len - 1\n",
    "\n",
    "# convert the series of list into a dataframe (df_temp) and join this to the df_top dataframe\n",
    "df_temp = pd.DataFrame(top10, columns=cols)\n",
    "df_top = df_top.join(df_temp)\n",
    "\n",
    "# check result of the combined dataframe\n",
    "df_top.head()\n"
   ]
  },
  {
   "cell_type": "markdown",
   "metadata": {},
   "source": [
    "Wwe are interested in the holdings of the top performing funds; therefore, we create a new dataframe of the top 1000 best performing funds based on the 1 year return ('fund_return_1year'). A more recent fund return metric was used here (1 year) instead of a longer term one (10 years) as in the previous section as the current holdings are more associated with the most recent or near term performance. "
   ]
  },
  {
   "cell_type": "code",
   "execution_count": 27,
   "metadata": {},
   "outputs": [
    {
     "data": {
      "text/plain": [
       "22283    1.3503\n",
       "19269    1.2722\n",
       "19268    1.2648\n",
       "19267    1.2565\n",
       "18772    1.2454\n",
       "Name: fund_return_1year, dtype: float64"
      ]
     },
     "execution_count": 27,
     "metadata": {},
     "output_type": "execute_result"
    }
   ],
   "source": [
    "# use the nlargest function to get a subset of the top 1000 funds by 1 year performance\n",
    "df_best_1000 = df_top.nlargest(1000, 'fund_return_1year')\n",
    "df_best_1000['fund_return_1year'].head()"
   ]
  },
  {
   "cell_type": "code",
   "execution_count": 28,
   "metadata": {},
   "outputs": [
    {
     "data": {
      "text/html": [
       "<div>\n",
       "<style scoped>\n",
       "    .dataframe tbody tr th:only-of-type {\n",
       "        vertical-align: middle;\n",
       "    }\n",
       "\n",
       "    .dataframe tbody tr th {\n",
       "        vertical-align: top;\n",
       "    }\n",
       "\n",
       "    .dataframe thead th {\n",
       "        text-align: right;\n",
       "    }\n",
       "</style>\n",
       "<table border=\"1\" class=\"dataframe\">\n",
       "  <thead>\n",
       "    <tr style=\"text-align: right;\">\n",
       "      <th></th>\n",
       "      <th>Position</th>\n",
       "      <th>top_holding</th>\n",
       "    </tr>\n",
       "  </thead>\n",
       "  <tbody>\n",
       "    <tr>\n",
       "      <th>0</th>\n",
       "      <td>top_1</td>\n",
       "      <td>Dreyfus Instl Preferred Gov Plus MMkt</td>\n",
       "    </tr>\n",
       "    <tr>\n",
       "      <th>1</th>\n",
       "      <td>top_1</td>\n",
       "      <td>Prologis Inc</td>\n",
       "    </tr>\n",
       "    <tr>\n",
       "      <th>2</th>\n",
       "      <td>top_1</td>\n",
       "      <td>American Century NT Diversified Bond G</td>\n",
       "    </tr>\n",
       "    <tr>\n",
       "      <th>3</th>\n",
       "      <td>top_1</td>\n",
       "      <td>Prologis Inc</td>\n",
       "    </tr>\n",
       "    <tr>\n",
       "      <th>4</th>\n",
       "      <td>top_1</td>\n",
       "      <td>Roche Holding AG</td>\n",
       "    </tr>\n",
       "  </tbody>\n",
       "</table>\n",
       "</div>"
      ],
      "text/plain": [
       "  Position                             top_holding\n",
       "0    top_1   Dreyfus Instl Preferred Gov Plus MMkt\n",
       "1    top_1                            Prologis Inc\n",
       "2    top_1  American Century NT Diversified Bond G\n",
       "3    top_1                            Prologis Inc\n",
       "4    top_1                        Roche Holding AG"
      ]
     },
     "execution_count": 28,
     "metadata": {},
     "output_type": "execute_result"
    }
   ],
   "source": [
    "# combine the top holding columns (top1, top2, top3 etc.) into one column in new dataframe (df_best_1000_top)\n",
    "df_best_1000_top = df_best_1000.melt(value_name='top_holding', var_name='Position', value_vars=cols).reindex()\n",
    "df_best_1000_top.head()"
   ]
  },
  {
   "cell_type": "code",
   "execution_count": 29,
   "metadata": {},
   "outputs": [
    {
     "data": {
      "text/plain": [
       "Microsoft Corp                               164\n",
       "Amazon.com Inc                               129\n",
       "Apple Inc                                    119\n",
       "Alphabet Inc Class C                          94\n",
       "Facebook Inc A                                67\n",
       "Taiwan Semiconductor Manufacturing Co Ltd     54\n",
       "Alphabet Inc A                                54\n",
       "JPMorgan Chase & Co                           52\n",
       "Tencent Holdings Ltd                          52\n",
       "Visa Inc Class A                              52\n",
       "Name: top_holding, dtype: int64"
      ]
     },
     "execution_count": 29,
     "metadata": {},
     "output_type": "execute_result"
    }
   ],
   "source": [
    "# identify the top 10 most frequently appearing holdings in the 1000 best performing funds over the 1 year\n",
    "df_best_1000_top['top_holding'].value_counts().head(10)"
   ]
  },
  {
   "cell_type": "markdown",
   "metadata": {},
   "source": [
    "The above list was not surprising but turned up one company that I am not that familiar with and have not followed before - Taiwan Semiconductor Manufacturing Co Ltd. Not surprising to see a semiconductor manufacturer from Taiwan be a popular position in mutual fund portfolios given Taiwan's dominance of this sector, given the importance of semiconductor in today's technology and given the recent supply chain issues that has caused a shortage in chips. However, I had not imagined that it would be this prominent.\n",
    "\n",
    "I was also interested in which company was the most frequent number 1 position held across all funds so I next explored the top_1 value counts in the following section\n"
   ]
  },
  {
   "cell_type": "code",
   "execution_count": 30,
   "metadata": {},
   "outputs": [
    {
     "data": {
      "text/html": [
       "<div>\n",
       "<style scoped>\n",
       "    .dataframe tbody tr th:only-of-type {\n",
       "        vertical-align: middle;\n",
       "    }\n",
       "\n",
       "    .dataframe tbody tr th {\n",
       "        vertical-align: top;\n",
       "    }\n",
       "\n",
       "    .dataframe thead th {\n",
       "        text-align: right;\n",
       "    }\n",
       "</style>\n",
       "<table border=\"1\" class=\"dataframe\">\n",
       "  <thead>\n",
       "    <tr style=\"text-align: right;\">\n",
       "      <th></th>\n",
       "      <th>Position</th>\n",
       "      <th>top_holding</th>\n",
       "    </tr>\n",
       "  </thead>\n",
       "  <tbody>\n",
       "    <tr>\n",
       "      <th>0</th>\n",
       "      <td>top_1</td>\n",
       "      <td>Dreyfus Instl Preferred Gov Plus MMkt</td>\n",
       "    </tr>\n",
       "    <tr>\n",
       "      <th>1</th>\n",
       "      <td>top_1</td>\n",
       "      <td>Prologis Inc</td>\n",
       "    </tr>\n",
       "    <tr>\n",
       "      <th>2</th>\n",
       "      <td>top_1</td>\n",
       "      <td>American Century NT Diversified Bond G</td>\n",
       "    </tr>\n",
       "    <tr>\n",
       "      <th>3</th>\n",
       "      <td>top_1</td>\n",
       "      <td>Prologis Inc</td>\n",
       "    </tr>\n",
       "    <tr>\n",
       "      <th>4</th>\n",
       "      <td>top_1</td>\n",
       "      <td>Roche Holding AG</td>\n",
       "    </tr>\n",
       "    <tr>\n",
       "      <th>5</th>\n",
       "      <td>top_1</td>\n",
       "      <td>Amazon.com Inc</td>\n",
       "    </tr>\n",
       "    <tr>\n",
       "      <th>6</th>\n",
       "      <td>top_1</td>\n",
       "      <td>BXIICS2E INDEX SWAP 083121 SERIES 2</td>\n",
       "    </tr>\n",
       "    <tr>\n",
       "      <th>7</th>\n",
       "      <td>top_1</td>\n",
       "      <td>Columbia Large Cap Value Inst3</td>\n",
       "    </tr>\n",
       "    <tr>\n",
       "      <th>8</th>\n",
       "      <td>top_1</td>\n",
       "      <td>ASML Holding NV</td>\n",
       "    </tr>\n",
       "    <tr>\n",
       "      <th>9</th>\n",
       "      <td>top_1</td>\n",
       "      <td>American Water Works Co Inc</td>\n",
       "    </tr>\n",
       "  </tbody>\n",
       "</table>\n",
       "</div>"
      ],
      "text/plain": [
       "  Position                             top_holding\n",
       "0    top_1   Dreyfus Instl Preferred Gov Plus MMkt\n",
       "1    top_1                            Prologis Inc\n",
       "2    top_1  American Century NT Diversified Bond G\n",
       "3    top_1                            Prologis Inc\n",
       "4    top_1                        Roche Holding AG\n",
       "5    top_1                          Amazon.com Inc\n",
       "6    top_1     BXIICS2E INDEX SWAP 083121 SERIES 2\n",
       "7    top_1          Columbia Large Cap Value Inst3\n",
       "8    top_1                         ASML Holding NV\n",
       "9    top_1             American Water Works Co Inc"
      ]
     },
     "execution_count": 30,
     "metadata": {},
     "output_type": "execute_result"
    }
   ],
   "source": [
    "# create a new dataframe with on the top_1 positions\n",
    "df_best_1000_top1 = df_best_1000_top[df_best_1000_top['Position'] == 'top_1']\n",
    "df_best_1000_top1.head(10)"
   ]
  },
  {
   "cell_type": "code",
   "execution_count": 31,
   "metadata": {},
   "outputs": [
    {
     "data": {
      "image/png": "[encoded data removed]",
      "text/plain": [
       "<Figure size 576x432 with 1 Axes>"
      ]
     },
     "metadata": {
      "needs_background": "light"
     },
     "output_type": "display_data"
    }
   ],
   "source": [
    "top1_vals = df_best_1000_top1['top_holding'].value_counts()#Provide a pandas series of the counts for each holding\n",
    "\n",
    "# The below should be a bar chart of the proportion of the top 10 most frequent holdings in the number 1 spot\n",
    "\n",
    "plt.figure(figsize=(8,6))\n",
    "(top1_vals[:10]).plot(kind=\"bar\");\n",
    "plt.title(\"Top Number 1 Positions held by the top 1000 funds\");\n"
   ]
  },
  {
   "cell_type": "code",
   "execution_count": 32,
   "metadata": {},
   "outputs": [
    {
     "data": {
      "text/plain": [
       "Microsoft Corp                               62\n",
       "Apple Inc                                    47\n",
       "Taiwan Semiconductor Manufacturing Co Ltd    23\n",
       "BlackRock Liquidity T-Fund Instl             17\n",
       "Amazon.com Inc                               14\n",
       "AB Government Money Market AB                14\n",
       "Columbia Short-Term Cash                     13\n",
       "Dreyfus Instl Preferred Gov Plus MMkt        11\n",
       "Alphabet Inc Class C                         10\n",
       "JPMorgan Chase & Co                          10\n",
       "Name: top_holding, dtype: int64"
      ]
     },
     "execution_count": 32,
     "metadata": {},
     "output_type": "execute_result"
    }
   ],
   "source": [
    "# display the counts\n",
    "top1_vals.head(10)"
   ]
  },
  {
   "cell_type": "markdown",
   "metadata": {},
   "source": [
    "Taiwan Semiconductor Manufacturing Co Ltd moved up further in the ranking of top holdings when I drilled into only the number 1 holdings (top_1) indicating that nearly half of Taiwan Semiconductor Manufacturing Co Ltd's appearances in the top list for top holdings of the 1000 best performing funds over 1 year are as the top holding of the respective funds. Definitely an company worth keeping an eye on going forward."
   ]
  },
  {
   "cell_type": "markdown",
   "metadata": {},
   "source": [
    "## 6. Question No. 3: Predicting Fund Performance<a name=\"item6\"></a>\n",
    "<a href=\"#itemA\">*`Table of content`*</a>\n"
   ]
  },
  {
   "cell_type": "markdown",
   "metadata": {},
   "source": [
    "I wanted to explore if the following variables could be used to predict a fund's year to date return:\n",
    "\n",
    "***Predictor variables:***\n",
    "1. The Morningstar return rating (column - `morningstar_return_rating`): Morningstar is a research firm and data provider and their ratings are considered by fund investors when evaluating the quality of a fund. I would expect higher Morningstar ratings to translate to better performance hence this variable may have some predictive value\n",
    "2. The fund's past performance (column - `fund_mean_annual_return_5years`). Past performance is generally not necessarily considered an indicator of future performance. However, performance over a longer period such has 5 years may have some predictive value as it may provide a measure of the fund manager skill without being overweighed by the most recent performance as may be the case with the 1 year return\n",
    "3. The fund investment style (column - `investment_type`): The investment style (blend, growth, value) is inherently a differentiation in the investment approach and I expect this to also some of the variation in performance\n",
    "4. The fund size category (column - `size_type`): Given the different risk profiles of companies in the large, medium and small size categories I would expect this to affect their return profiles hence this variable may explain some of the variation between funds targeting difference size category  \n",
    "\n",
    "***Dependent variable:***\n",
    "\n",
    "I will use the year-to-date fund return (column - `fund_return_ytd`) as the dependent variable as this is the most recent performance metric that also covers a period close to 1 year and is a measure that investors will track to monitor their holdings or may consider in making decisions about whether to buy, hold or sell their position in a given fund\n",
    "\n",
    "***Other variable:***\n",
    "\n",
    "We will also include the `category_return_5years` column as this will be used for imputation later"
   ]
  },
  {
   "cell_type": "code",
   "execution_count": 33,
   "metadata": {},
   "outputs": [
    {
     "name": "stdout",
     "output_type": "stream",
     "text": [
      "There are 23353 rows in the dataset to be used for predictive modelling\n"
     ]
    }
   ],
   "source": [
    "# specify dependendent variable (fund_return_ytd) and explanatory variables\n",
    "\n",
    "\n",
    "xy_cols = ['fund_return_ytd','morningstar_return_rating', 'category_return_5years', \n",
    "           'fund_mean_annual_return_5years', 'investment_type', 'size_type']\n",
    "\n",
    "df_xy = df1[xy_cols]\n",
    "\n",
    "# drop all columns without a ytd return as this is value that we need to predict\n",
    "df_xy = df_xy.dropna(subset=['fund_return_ytd'], axis=0)\n",
    "\n",
    " \n",
    "print('There are {} rows in the dataset to be used for predictive modelling'.format(df_xy.shape[0]))\n"
   ]
  },
  {
   "cell_type": "code",
   "execution_count": 34,
   "metadata": {},
   "outputs": [
    {
     "name": "stdout",
     "output_type": "stream",
     "text": [
      "fund_return_ytd                   100.000000\n",
      "morningstar_return_rating          93.623946\n",
      "category_return_5years             96.291697\n",
      "fund_mean_annual_return_5years     88.977862\n",
      "investment_type                    95.897743\n",
      "size_type                          95.897743\n",
      "dtype: float64\n"
     ]
    }
   ],
   "source": [
    "# show the percentage of columns with values (not null)\n",
    "\n",
    "null_percentage = lambda x: 1 - x.isnull().mean()\n",
    "\n",
    "print('{}'.format(df_xy.apply(null_percentage) * 100))"
   ]
  },
  {
   "cell_type": "code",
   "execution_count": 35,
   "metadata": {},
   "outputs": [
    {
     "data": {
      "text/plain": [
       "Large     13009\n",
       "Medium     5523\n",
       "Small      3863\n",
       "Name: size_type, dtype: int64"
      ]
     },
     "execution_count": 35,
     "metadata": {},
     "output_type": "execute_result"
    }
   ],
   "source": [
    "df_xy['size_type'].value_counts()\n"
   ]
  },
  {
   "cell_type": "code",
   "execution_count": 36,
   "metadata": {},
   "outputs": [
    {
     "data": {
      "text/plain": [
       "Blend     10723\n",
       "Value      6798\n",
       "Growth     4874\n",
       "Name: investment_type, dtype: int64"
      ]
     },
     "execution_count": 36,
     "metadata": {},
     "output_type": "execute_result"
    }
   ],
   "source": [
    "df_xy['investment_type'].value_counts()"
   ]
  },
  {
   "cell_type": "markdown",
   "metadata": {},
   "source": [
    "It is not possible to impute values for the investment_type or size_type. If this information is not available there is no reasonable way of estimating what the values may be without assigning some random value. We will therefore drop all the columns that have missing data in these columns"
   ]
  },
  {
   "cell_type": "code",
   "execution_count": 37,
   "metadata": {},
   "outputs": [
    {
     "name": "stdout",
     "output_type": "stream",
     "text": [
      "There are 22395 rows remaining in the dataset\n"
     ]
    }
   ],
   "source": [
    "df_xy = df_xy.dropna(subset=['investment_type', 'size_type'], how='any', axis=0)\n",
    "\n",
    "print('There are {} rows remaining in the dataset'.format(df_xy.shape[0]))\n"
   ]
  },
  {
   "cell_type": "markdown",
   "metadata": {},
   "source": [
    "###  6a -  Convert investment type and size type from categorical to numeric variable<a name=\"item6a\"></a>\n",
    "<a href=\"#itemA\">*`Table of content`*</a> \n"
   ]
  },
  {
   "cell_type": "markdown",
   "metadata": {},
   "source": [
    "\n",
    "The `investment_type` and `size_type` are categorical columns which can not be used in a simple linear regression model. We will convert these to numeric values using one-hot encoding\n",
    "\n",
    "We first create a function `create_dummy_df` that creates dummy variables for all categorical columns and removes the original column\n"
   ]
  },
  {
   "cell_type": "code",
   "execution_count": 38,
   "metadata": {},
   "outputs": [],
   "source": [
    "def create_dummy_df(df, cat_cols, dummy_na):\n",
    "    '''\n",
    "    INPUT:\n",
    "    df - pandas dataframe with categorical variables you want to dummy\n",
    "    cat_cols - list of strings that are associated with names of the categorical columns\n",
    "    dummy_na - Bool holding whether you want to dummy NA vals of categorical columns or not\n",
    "    \n",
    "    OUTPUT:\n",
    "    df - a new dataframe that has the following characteristics:\n",
    "            1. contains all columns that were not specified as categorical\n",
    "            2. removes all the original columns in cat_cols\n",
    "            3. dummy columns for each of the categorical columns in cat_cols\n",
    "            4. if dummy_na is True - it also contains dummy columns for the NaN values\n",
    "            5. Use a prefix of the column name with an underscore (_) for separating \n",
    "    '''\n",
    "    for col in  cat_cols:\n",
    "        try:\n",
    "            # for each cat add dummy var, drop original column\n",
    "            df = pd.concat([df.drop(col, axis=1), \\\n",
    "                            pd.get_dummies(df[col], prefix=col, prefix_sep='_', \\\n",
    "                                           drop_first=False, dummy_na=dummy_na)], axis=1)\n",
    "        except:\n",
    "            continue\n",
    "        \n",
    "    return df"
   ]
  },
  {
   "cell_type": "code",
   "execution_count": 39,
   "metadata": {},
   "outputs": [
    {
     "name": "stdout",
     "output_type": "stream",
     "text": [
      "(22395, 10)\n"
     ]
    }
   ],
   "source": [
    "# Create a list of the column names of the categorical variables\n",
    "cat_cols_lst = ['investment_type', 'size_type']\n",
    "\n",
    "#Use function above to convert from categorical to numeric columns\n",
    "df_xy = create_dummy_df(df_xy, cat_cols_lst, dummy_na=False)\n",
    "\n",
    "# Show shape to assure it has shape of (22395, 10) - i.e. 6 original less 2 categorical plus 6 new dummy variable\n",
    "print(df_xy.shape)"
   ]
  },
  {
   "cell_type": "code",
   "execution_count": 40,
   "metadata": {},
   "outputs": [
    {
     "data": {
      "text/plain": [
       "Index(['fund_return_ytd', 'morningstar_return_rating',\n",
       "       'category_return_5years', 'fund_mean_annual_return_5years',\n",
       "       'investment_type_Blend', 'investment_type_Growth',\n",
       "       'investment_type_Value', 'size_type_Large', 'size_type_Medium',\n",
       "       'size_type_Small'],\n",
       "      dtype='object')"
      ]
     },
     "execution_count": 40,
     "metadata": {},
     "output_type": "execute_result"
    }
   ],
   "source": [
    "df_xy.columns"
   ]
  },
  {
   "cell_type": "markdown",
   "metadata": {},
   "source": [
    "###  6b -  Imputation for fund_mean_annual_return_5years<a name=\"item6b\"></a>\n",
    "<a href=\"#itemA\">*`Table of content`*</a> \n",
    "\n"
   ]
  },
  {
   "cell_type": "markdown",
   "metadata": {},
   "source": [
    "\n",
    "We will use the following logic to impute the missing values for the `fund_mean_annual_return_5years` column:\n",
    "1. Use the `category_return_5years` value, if available. This will need to be annualized to make it comparable with the `fund_mean_annual_return_5years` column\n",
    "2."
   ]
  },
  {
   "cell_type": "code",
   "execution_count": 41,
   "metadata": {},
   "outputs": [
    {
     "name": "stdout",
     "output_type": "stream",
     "text": [
      "The percentage of rows with values in the fund_mean_annual_return_5years column is 99.15%\n"
     ]
    }
   ],
   "source": [
    "# variables for the two columns to make it easier to write the columns in the following cells\n",
    "col1 = 'fund_mean_annual_return_5years'\n",
    "col2 = 'category_return_5years'\n",
    "\n",
    "# loop through each row in the 5year return column and assign the annualized category 5 year return if value is NaN\n",
    "for i in df_xy[col1].index:\n",
    "    if pd.isnull(df_xy[col1][i]) == True and pd.isnull(df_xy[col2][i]) != True:\n",
    "        df_xy.loc[i,col1] = df_xy.loc[i, col2]/5\n",
    "\n",
    "# calculate percentage of non-missing values\n",
    "no_null_percent = (1 - df_xy[col1].isnull().mean()) * 100\n",
    "\n",
    "# display percentage\n",
    "print('The percentage of rows with values in the {} column is {:.2f}%'.format(col1, no_null_percent))\n"
   ]
  },
  {
   "cell_type": "markdown",
   "metadata": {},
   "source": [
    "99.15% completeness percentage is good enough so will drop the remaining rows and also drop the `category_return_5years` column as we are done using it for imputing the values to the `fund_mean_annual_return_5years` column"
   ]
  },
  {
   "cell_type": "code",
   "execution_count": 42,
   "metadata": {},
   "outputs": [
    {
     "name": "stdout",
     "output_type": "stream",
     "text": [
      "There are 22204 rows remaining in the dataset\n"
     ]
    }
   ],
   "source": [
    "# drop rows the remaining 0.85% of rows that still have missing values in the fund return column\n",
    "df_xy = df_xy.dropna(subset=[col1], how='any', axis=0)\n",
    "\n",
    "# drop the category return column now that it has been used for imputation\n",
    "df_xy.drop('category_return_5years', axis=1, inplace=True)\n",
    "\n",
    "# display the remaining number of records available for modelling\n",
    "print('There are {} rows remaining in the dataset'.format(df_xy.shape[0]))"
   ]
  },
  {
   "cell_type": "code",
   "execution_count": 43,
   "metadata": {},
   "outputs": [
    {
     "name": "stdout",
     "output_type": "stream",
     "text": [
      "fund_return_ytd                   100.000000\n",
      "morningstar_return_rating          94.802738\n",
      "fund_mean_annual_return_5years    100.000000\n",
      "investment_type_Blend             100.000000\n",
      "investment_type_Growth            100.000000\n",
      "investment_type_Value             100.000000\n",
      "size_type_Large                   100.000000\n",
      "size_type_Medium                  100.000000\n",
      "size_type_Small                   100.000000\n",
      "dtype: float64\n"
     ]
    }
   ],
   "source": [
    "# print percentage of rows with values to show that only the morningstar_return_rating remains incomplete \n",
    "print('{}'.format(df_xy.apply(null_percentage) * 100))"
   ]
  },
  {
   "cell_type": "markdown",
   "metadata": {},
   "source": [
    "###  6c -  Preparation for the morningstar_return_rating variable<a name=\"item6c\"></a>\n",
    "<a href=\"#itemA\">*`Table of content`*</a> \n",
    "\n",
    "We will used the K-nearest neighbor (KNN) machine learning model to impute the missing values for the `morningstar_return_rating` column"
   ]
  },
  {
   "cell_type": "code",
   "execution_count": 44,
   "metadata": {},
   "outputs": [
    {
     "data": {
      "text/html": [
       "<div>\n",
       "<style scoped>\n",
       "    .dataframe tbody tr th:only-of-type {\n",
       "        vertical-align: middle;\n",
       "    }\n",
       "\n",
       "    .dataframe tbody tr th {\n",
       "        vertical-align: top;\n",
       "    }\n",
       "\n",
       "    .dataframe thead th {\n",
       "        text-align: right;\n",
       "    }\n",
       "</style>\n",
       "<table border=\"1\" class=\"dataframe\">\n",
       "  <thead>\n",
       "    <tr style=\"text-align: right;\">\n",
       "      <th></th>\n",
       "      <th>fund_return_ytd</th>\n",
       "      <th>morningstar_return_rating</th>\n",
       "      <th>fund_mean_annual_return_5years</th>\n",
       "      <th>investment_type_Blend</th>\n",
       "      <th>investment_type_Growth</th>\n",
       "      <th>investment_type_Value</th>\n",
       "      <th>size_type_Large</th>\n",
       "      <th>size_type_Medium</th>\n",
       "      <th>size_type_Small</th>\n",
       "    </tr>\n",
       "  </thead>\n",
       "  <tbody>\n",
       "    <tr>\n",
       "      <th>0</th>\n",
       "      <td>0.665390</td>\n",
       "      <td>0.50</td>\n",
       "      <td>0.473520</td>\n",
       "      <td>0.0</td>\n",
       "      <td>0.0</td>\n",
       "      <td>1.0</td>\n",
       "      <td>1.0</td>\n",
       "      <td>0.0</td>\n",
       "      <td>0.0</td>\n",
       "    </tr>\n",
       "    <tr>\n",
       "      <th>1</th>\n",
       "      <td>0.647699</td>\n",
       "      <td>0.50</td>\n",
       "      <td>0.551402</td>\n",
       "      <td>1.0</td>\n",
       "      <td>0.0</td>\n",
       "      <td>0.0</td>\n",
       "      <td>1.0</td>\n",
       "      <td>0.0</td>\n",
       "      <td>0.0</td>\n",
       "    </tr>\n",
       "    <tr>\n",
       "      <th>2</th>\n",
       "      <td>0.697458</td>\n",
       "      <td>0.75</td>\n",
       "      <td>0.658879</td>\n",
       "      <td>0.0</td>\n",
       "      <td>1.0</td>\n",
       "      <td>0.0</td>\n",
       "      <td>1.0</td>\n",
       "      <td>0.0</td>\n",
       "      <td>0.0</td>\n",
       "    </tr>\n",
       "    <tr>\n",
       "      <th>3</th>\n",
       "      <td>0.611146</td>\n",
       "      <td>0.75</td>\n",
       "      <td>0.537383</td>\n",
       "      <td>1.0</td>\n",
       "      <td>0.0</td>\n",
       "      <td>0.0</td>\n",
       "      <td>1.0</td>\n",
       "      <td>0.0</td>\n",
       "      <td>0.0</td>\n",
       "    </tr>\n",
       "    <tr>\n",
       "      <th>4</th>\n",
       "      <td>0.660534</td>\n",
       "      <td>0.75</td>\n",
       "      <td>0.524922</td>\n",
       "      <td>1.0</td>\n",
       "      <td>0.0</td>\n",
       "      <td>0.0</td>\n",
       "      <td>1.0</td>\n",
       "      <td>0.0</td>\n",
       "      <td>0.0</td>\n",
       "    </tr>\n",
       "  </tbody>\n",
       "</table>\n",
       "</div>"
      ],
      "text/plain": [
       "   fund_return_ytd  morningstar_return_rating  fund_mean_annual_return_5years  \\\n",
       "0         0.665390                       0.50                        0.473520   \n",
       "1         0.647699                       0.50                        0.551402   \n",
       "2         0.697458                       0.75                        0.658879   \n",
       "3         0.611146                       0.75                        0.537383   \n",
       "4         0.660534                       0.75                        0.524922   \n",
       "\n",
       "   investment_type_Blend  investment_type_Growth  investment_type_Value  \\\n",
       "0                    0.0                     0.0                    1.0   \n",
       "1                    1.0                     0.0                    0.0   \n",
       "2                    0.0                     1.0                    0.0   \n",
       "3                    1.0                     0.0                    0.0   \n",
       "4                    1.0                     0.0                    0.0   \n",
       "\n",
       "   size_type_Large  size_type_Medium  size_type_Small  \n",
       "0              1.0               0.0              0.0  \n",
       "1              1.0               0.0              0.0  \n",
       "2              1.0               0.0              0.0  \n",
       "3              1.0               0.0              0.0  \n",
       "4              1.0               0.0              0.0  "
      ]
     },
     "execution_count": 44,
     "metadata": {},
     "output_type": "execute_result"
    }
   ],
   "source": [
    "# first normalize the data using the MinMaxScaler from scikit-learn\n",
    "scaler = MinMaxScaler()\n",
    "df_xy = pd.DataFrame(scaler.fit_transform(df_xy), columns = df_xy.columns)\n",
    "df_xy.head()"
   ]
  },
  {
   "cell_type": "code",
   "execution_count": 45,
   "metadata": {},
   "outputs": [],
   "source": [
    "# instatiate the imputer with 5 clustes given the morningstar rating is from 1 to 5\n",
    "imputer = KNNImputer(n_neighbors=5)\n",
    "\n",
    "# generate updated dataframe with imputed values for missing values\n",
    "df_xy = pd.DataFrame(imputer.fit_transform(df_xy),columns = df_xy.columns)"
   ]
  },
  {
   "cell_type": "code",
   "execution_count": 46,
   "metadata": {},
   "outputs": [
    {
     "name": "stdout",
     "output_type": "stream",
     "text": [
      "fund_return_ytd                   100.0\n",
      "morningstar_return_rating         100.0\n",
      "fund_mean_annual_return_5years    100.0\n",
      "investment_type_Blend             100.0\n",
      "investment_type_Growth            100.0\n",
      "investment_type_Value             100.0\n",
      "size_type_Large                   100.0\n",
      "size_type_Medium                  100.0\n",
      "size_type_Small                   100.0\n",
      "dtype: float64\n"
     ]
    }
   ],
   "source": [
    "# print percentage of rows with values to show all columns are now 100% complete \n",
    "print('{}'.format(df_xy.apply(null_percentage) * 100))"
   ]
  },
  {
   "cell_type": "code",
   "execution_count": 47,
   "metadata": {},
   "outputs": [],
   "source": [
    "#df_xy.isna().any()\n",
    "#df_xy.isna().sum()"
   ]
  },
  {
   "cell_type": "markdown",
   "metadata": {},
   "source": [
    "###  6d -  Build and test the model<a name=\"item6d\"></a>\n",
    "<a href=\"#itemA\">*`Table of content`*</a> "
   ]
  },
  {
   "cell_type": "code",
   "execution_count": 48,
   "metadata": {},
   "outputs": [
    {
     "data": {
      "text/plain": [
       "Index(['fund_return_ytd', 'morningstar_return_rating',\n",
       "       'fund_mean_annual_return_5years', 'investment_type_Blend',\n",
       "       'investment_type_Growth', 'investment_type_Value', 'size_type_Large',\n",
       "       'size_type_Medium', 'size_type_Small'],\n",
       "      dtype='object')"
      ]
     },
     "execution_count": 48,
     "metadata": {},
     "output_type": "execute_result"
    }
   ],
   "source": [
    "# display columns\n",
    "df_xy.columns"
   ]
  },
  {
   "cell_type": "code",
   "execution_count": 49,
   "metadata": {},
   "outputs": [
    {
     "name": "stdout",
     "output_type": "stream",
     "text": [
      "The training sample included 15542 records out of the total available of 22204\n",
      "\n",
      "\n",
      "The r-squared score for the model was 0.2842043137808977 on 6662 test values.\n"
     ]
    }
   ],
   "source": [
    "#Split into explanatory and response variables\n",
    "X_cols = ['morningstar_return_rating', 'fund_mean_annual_return_5years', \n",
    "          'investment_type_Blend', 'investment_type_Growth', 'investment_type_Value', \n",
    "          'size_type_Large', 'size_type_Medium', 'size_type_Small']\n",
    "\n",
    "X = df_xy[X_cols]\n",
    "\n",
    "y = df_xy['fund_return_ytd']\n",
    "\n",
    "#Split into train and test\n",
    "X_train, X_test, y_train, y_test = train_test_split(X, y, test_size = .30, random_state=42) \n",
    "\n",
    "lm_model = LinearRegression() # Instantiate\n",
    "lm_model.fit(X_train, y_train) #Fit\n",
    "        \n",
    "#Predict and score the model\n",
    "y_test_preds = lm_model.predict(X_test)\n",
    "\n",
    "#Display results\n",
    "print(\"The training sample included {} records out of the total available of {}\".format(len(y_train),len(df_xy)))\n",
    "print(\"\\n\")\n",
    "print(\"The r-squared score for the model was {} on {} test values.\".format(r2_score(y_test, y_test_preds), len(y_test)))"
   ]
  },
  {
   "cell_type": "markdown",
   "metadata": {},
   "source": [
    "###  6e -  Conclusion<a name=\"item6e\"></a>\n",
    "<a href=\"#itemA\">*`Table of content`*</a> \n",
    "\n",
    "With an **r-square score** of **0.28** on the test data, the model provides some explanation of the variation in current performance but it is not high enough to be considered very useful for prediction. Perhaps with some addition of other features the model may be improved upon, but for now we leave it here."
   ]
  },
  {
   "cell_type": "code",
   "execution_count": null,
   "metadata": {},
   "outputs": [],
   "source": []
  }
 ],
 "metadata": {
  "kernelspec": {
   "display_name": "Python 3 (ipykernel)",
   "language": "python",
   "name": "python3"
  },
  "language_info": {
   "codemirror_mode": {
    "name": "ipython",
    "version": 3
   },
   "file_extension": ".py",
   "mimetype": "text/x-python",
   "name": "python",
   "nbconvert_exporter": "python",
   "pygments_lexer": "ipython3",
   "version": "3.9.7"
  }
 },
 "nbformat": 4,
 "nbformat_minor": 2
}
